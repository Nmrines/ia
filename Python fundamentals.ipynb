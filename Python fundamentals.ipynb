{
 "cells": [
  {
   "cell_type": "code",
   "execution_count": 1,
   "id": "f626f051-955b-4e7a-a1ea-848fbb4057ec",
   "metadata": {},
   "outputs": [
    {
     "name": "stdout",
     "output_type": "stream",
     "text": [
      "True <class 'bool'>\n",
      "String <class 'str'>\n",
      "3 <class 'str'>\n",
      "9 <class 'int'>\n",
      "3.0 <class 'float'>\n"
     ]
    }
   ],
   "source": [
    "#1.1 Variables\n",
    "# declaration\n",
    "a = 5\n",
    "b = \"String\"\n",
    "c = True\n",
    "c = not c\n",
    "d = True\n",
    "c = c or d\n",
    "print (c,type(c))\n",
    "print (b,type(b))\n",
    "#casting data\n",
    "a = str(3)\n",
    "print (a,type(a))\n",
    "a = int(3)\n",
    "print(a*a,type(a))\n",
    "a = float(a)\n",
    "print(a,type(a))"
   ]
  },
  {
   "cell_type": "code",
   "execution_count": 29,
   "id": "ba2e1696-a435-4323-bf98-7e07375c3fda",
   "metadata": {},
   "outputs": [
    {
     "name": "stdout",
     "output_type": "stream",
     "text": [
      "'a' inf a 'b'\n",
      "b\n",
      "c = true and 'a' est inferieur a 'b'\n"
     ]
    }
   ],
   "source": [
    "#1.2 Conditions\n",
    "#logical condition a == b , a != b , a < b , a <= b , a > b , a >= b , and , or\n",
    "a = 20\n",
    "b = 21\n",
    "d = 19\n",
    "if a > b:\n",
    "    print(\" 'a' sup a 'b'\")\n",
    "elif a == b:\n",
    "    print(\"'a' = 'b'\")\n",
    "else: \n",
    "    print(\"'a' inf a 'b'\")\n",
    "\n",
    "#condition in one line \n",
    "print(\"a\") if a>b else print(\"=\") if a == b  else print(\"b\")\n",
    "#condition imbriquée\n",
    "if a<b:\n",
    "    if c:\n",
    "        print(\"c = true and 'a' est inferieur a 'b'\")\n",
    "#pass in if statement used to avoid error \n",
    "if a > b:\n",
    "  pass\n",
    "\n",
    "thislist = [\"apple\", \"banana\", \"cherry\"]\n",
    "if \"apple\" in thislist:\n",
    "  print(\"Yes, 'apple' is in the fruits list\") "
   ]
  },
  {
   "cell_type": "code",
   "execution_count": 42,
   "id": "0bc9c2f4-7aed-469b-8549-df53acdcce38",
   "metadata": {},
   "outputs": [
    {
     "name": "stdout",
     "output_type": "stream",
     "text": [
      "0\n",
      "1\n",
      "2\n",
      "1\n",
      "2\n",
      "boooucle\n",
      "2\n",
      "5\n",
      "8\n",
      "11\n",
      "14\n",
      "17\n",
      "20\n",
      "23\n",
      "26\n",
      "29\n",
      "ia\n",
      "iot\n",
      "sec\n",
      "Le premier elements de la liste modules est  iot\n",
      "0\n",
      "1\n",
      "2\n",
      "3\n",
      "fin\n"
     ]
    }
   ],
   "source": [
    "#Loops while , for\n",
    "#de 0 a 3\n",
    "for i in range(3):\n",
    "    print(i)\n",
    "#de 1 a 3\n",
    "for i in range(1,3):\n",
    "    print(i)\n",
    "print('Les nombres entre 2 et 30 avec un pas de 3')\n",
    "for i in range(2,30, 3):\n",
    "    print(i)\n",
    "\n",
    "modules = [\"ia\",\"iot\",\"sec\"]\n",
    "for module in modules:\n",
    "    print(module)\n",
    "print(\"Le premier elements de la liste modules est \",modules[1])\n",
    "i = 0\n",
    "#boucle while avec un bloc else\n",
    "while i<4:\n",
    "    print(i)\n",
    "    i=i+1\n",
    "else: print('fin')"
   ]
  },
  {
   "cell_type": "code",
   "execution_count": 11,
   "id": "5b40b561-1df0-4bd4-84ff-5490828cc9ea",
   "metadata": {},
   "outputs": [
    {
     "name": "stdout",
     "output_type": "stream",
     "text": [
      "first function\n"
     ]
    },
    {
     "name": "stdin",
     "output_type": "stream",
     "text": [
      " ine\n",
      " nemer\n"
     ]
    },
    {
     "name": "stdout",
     "output_type": "stream",
     "text": [
      "Welcome ine   nemer\n",
      "Entrez un nombre\n"
     ]
    },
    {
     "name": "stdin",
     "output_type": "stream",
     "text": [
      " 5\n"
     ]
    },
    {
     "name": "stdout",
     "output_type": "stream",
     "text": [
      "n'est impair\n"
     ]
    }
   ],
   "source": [
    "#Functions\n",
    "def first_function():\n",
    "    print('first function')\n",
    "first_function()\n",
    "\n",
    "#fonction avec parametres\n",
    "nom = input()\n",
    "prenom = input()\n",
    "def afficher_nom_prenom(nom,prenom):\n",
    "    print('Welcome',nom,' ',prenom)\n",
    "\n",
    "afficher_nom_prenom(nom,prenom)\n",
    "\n",
    "#est ce que n est pair ? \n",
    "print(\"Entrez un nombre\")\n",
    "n = input()\n",
    "n = int(n)\n",
    "def pair(n):\n",
    "    if n % 2 == 0:\n",
    "       print(\"n'est pair\")\n",
    "    else: print(\"n'est impair\")\n",
    "pair(n)"
   ]
  },
  {
   "cell_type": "code",
   "execution_count": 43,
   "id": "03334123-830e-45b3-9608-5c422f0346f4",
   "metadata": {},
   "outputs": [
    {
     "name": "stdout",
     "output_type": "stream",
     "text": [
      "<class 'list'>\n",
      "['string', 15, 23, True, 'mot', 3, 7, 9]\n",
      "[3, 7, 9, 3, 7, 9] 2\n",
      "['aldi', 'ia', 'pfsd', 'bda', 'inth']\n",
      "5\n",
      "False\n",
      "[]\n",
      "inth\n",
      "['ia', 'pfsd', 'bda']\n",
      "['aldi', 'ia', 'pfsd', 'bda']\n",
      "['ia', 'pfsd', 'bda', 'inth']\n",
      "['ia', 'pfsd', 'bda']\n",
      "7\n"
     ]
    }
   ],
   "source": [
    "#Lists\n",
    "#basic exemple\n",
    "my_list =[\"aldi\",\"ia\",\"pfsd\",\"bda\",\"inth\"]\n",
    "second = [3,5,7,9]\n",
    "second.pop(1)\n",
    "third = [True,False,False]\n",
    "fourth = [\"string\",23,True]\n",
    "fourth.insert(1,15)\n",
    "fourth.append(\"mot\")\n",
    "fourth.extend(second)\n",
    "print(type(fourth))\n",
    "print(fourth)\n",
    "second = second + second\n",
    "print(second, second.count(3))\n",
    "print(my_list)\n",
    "print(len(my_list))\n",
    "#access\n",
    "print(third[2])\n",
    "third.clear()\n",
    "print(third)\n",
    "print(my_list[-1])\n",
    "#intervale\n",
    "print(my_list[1:4])\n",
    "#not including 4,then 1\n",
    "print(my_list[:4])\n",
    "print(my_list[1:])\n",
    "print(my_list[-4:-1])\n",
    "\n",
    "matrix = [\n",
    "    [1, 2, 3, 4],\n",
    "    [5, 6, 7, 8],\n",
    "    [9, 10, 11, 12],\n",
    "]\n",
    "print(matrix[1][2])\n"
   ]
  },
  {
   "cell_type": "code",
   "execution_count": 36,
   "id": "0c1d3d47-cbcb-4e38-aa69-0bca3613e75d",
   "metadata": {},
   "outputs": [
    {
     "name": "stdout",
     "output_type": "stream",
     "text": [
      "('aldi', 'ia', 'pfsd', 'bda', 'inth')\n",
      "('yellow', 'red', 'green')\n",
      "[1, 2, 3]\n"
     ]
    }
   ],
   "source": [
    "#Tuples\n",
    "#The list is dynamic, whereas the tuple has static characteristics\n",
    "myTuple =(\"aldi\",\"ia\",\"pfsd\",\"bda\",\"inth\")\n",
    "print(myTuple)\n",
    "newTuple = tuple((\"yellow\", \"red\", \"green\")) \n",
    "print(newTuple)\n",
    "#convert a tuple to a list\n",
    "x = (1,2,3)\n",
    "import builtins\n",
    "y = builtins.list(x)\n",
    "print(y)"
   ]
  },
  {
   "cell_type": "code",
   "execution_count": 56,
   "id": "cb8e14d3-be29-495d-bc21-a6f63eebe3f6",
   "metadata": {},
   "outputs": [
    {
     "name": "stdout",
     "output_type": "stream",
     "text": [
      "{}\n",
      "{'nom': 'ines', 'prenom': 'nemer', 'age': 23, 'specialite': 'rsd'}\n",
      "ines\n",
      "nemer\n",
      "23\n",
      "rsd\n",
      "nom\n",
      "prenom\n",
      "age\n",
      "specialite\n",
      "[1, 2, 3, 4]\n"
     ]
    }
   ],
   "source": [
    "#Dictionnaire\n",
    "mon_dico = {}\n",
    "print(mon_dico)\n",
    "dict={\n",
    "    \"nom\": \"iness\",\n",
    "    \"prenom\": \"nemer\",\n",
    "    \"age\":23\n",
    "}\n",
    "dict[\"nom\"]=\"ines\"\n",
    "dict[\"specialite\"]=\"rsd\"\n",
    "print(dict)\n",
    "for val in dict.values():\n",
    "    print(val)\n",
    "for cle in dict.keys():\n",
    "    print(cle)\n",
    "#or we can use dict.items() to print keys and values\n",
    "test = {\n",
    "    \"a\":[1,2,3,4],\n",
    "    \"b\":[\"one\",\"two\",\"three\",\"four\"]\n",
    "}\n",
    "print(test.get(\"a\",1))"
   ]
  },
  {
   "cell_type": "code",
   "execution_count": null,
   "id": "ef7f5ab1-2ba2-4a9b-9da3-e3ec3872eb3b",
   "metadata": {},
   "outputs": [],
   "source": []
  }
 ],
 "metadata": {
  "kernelspec": {
   "display_name": "Python 3 (ipykernel)",
   "language": "python",
   "name": "python3"
  },
  "language_info": {
   "codemirror_mode": {
    "name": "ipython",
    "version": 3
   },
   "file_extension": ".py",
   "mimetype": "text/x-python",
   "name": "python",
   "nbconvert_exporter": "python",
   "pygments_lexer": "ipython3",
   "version": "3.12.0"
  }
 },
 "nbformat": 4,
 "nbformat_minor": 5
}
