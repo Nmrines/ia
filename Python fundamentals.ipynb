{
 "cells": [
  {
   "cell_type": "code",
   "execution_count": 1,
   "id": "f626f051-955b-4e7a-a1ea-848fbb4057ec",
   "metadata": {},
   "outputs": [
    {
     "name": "stdout",
     "output_type": "stream",
     "text": [
      "True <class 'bool'>\n",
      "String <class 'str'>\n",
      "3 <class 'str'>\n",
      "9 <class 'int'>\n",
      "3.0 <class 'float'>\n"
     ]
    }
   ],
   "source": [
    "#1.1 Variables\n",
    "# declaration\n",
    "a = 5\n",
    "b = \"String\"\n",
    "c = True\n",
    "c = not c\n",
    "d = True\n",
    "c = c or d\n",
    "print (c,type(c))\n",
    "print (b,type(b))\n",
    "#casting data\n",
    "a = str(3)\n",
    "print (a,type(a))\n",
    "a = int(3)\n",
    "print(a*a,type(a))\n",
    "a = float(a)\n",
    "print(a,type(a))"
   ]
  },
  {
   "cell_type": "code",
   "execution_count": 29,
   "id": "ba2e1696-a435-4323-bf98-7e07375c3fda",
   "metadata": {},
   "outputs": [
    {
     "name": "stdout",
     "output_type": "stream",
     "text": [
      "'a' inf a 'b'\n",
      "b\n",
      "c = true and 'a' est inferieur a 'b'\n"
     ]
    }
   ],
   "source": [
    "#1.2 Conditions\n",
    "#logical condition a == b , a != b , a < b , a <= b , a > b , a >= b , and , or\n",
    "a = 20\n",
    "b = 21\n",
    "d = 19\n",
    "if a > b:\n",
    "    print(\" 'a' sup a 'b'\")\n",
    "elif a == b:\n",
    "    print(\"'a' = 'b'\")\n",
    "else: \n",
    "    print(\"'a' inf a 'b'\")\n",
    "\n",
    "#condition in one line \n",
    "print(\"a\") if a>b else print(\"=\") if a == b  else print(\"b\")\n",
    "#condition imbriquée\n",
    "if a<b:\n",
    "    if c:\n",
    "        print(\"c = true and 'a' est inferieur a 'b'\")\n",
    "#pass in if statement used to avoid error \n",
    "if a > b:\n",
    "  pass"
   ]
  },
  {
   "cell_type": "code",
   "execution_count": 42,
   "id": "0bc9c2f4-7aed-469b-8549-df53acdcce38",
   "metadata": {},
   "outputs": [
    {
     "name": "stdout",
     "output_type": "stream",
     "text": [
      "0\n",
      "1\n",
      "2\n",
      "1\n",
      "2\n",
      "boooucle\n",
      "2\n",
      "5\n",
      "8\n",
      "11\n",
      "14\n",
      "17\n",
      "20\n",
      "23\n",
      "26\n",
      "29\n",
      "ia\n",
      "iot\n",
      "sec\n",
      "Le premier elements de la liste modules est  iot\n",
      "0\n",
      "1\n",
      "2\n",
      "3\n",
      "fin\n"
     ]
    }
   ],
   "source": [
    "#Loops while , for\n",
    "#de 0 a 3\n",
    "for i in range(3):\n",
    "    print(i)\n",
    "#de 1 a 3\n",
    "for i in range(1,3):\n",
    "    print(i)\n",
    "print('Les nombres entre 2 et 30 avec un pas de 3')\n",
    "for i in range(2,30, 3):\n",
    "    print(i)\n",
    "\n",
    "modules = [\"ia\",\"iot\",\"sec\"]\n",
    "for module in modules:\n",
    "    print(module)\n",
    "print(\"Le premier elements de la liste modules est \",modules[1])\n",
    "i = 0\n",
    "#boucle while avec un bloc else\n",
    "while i<4:\n",
    "    print(i)\n",
    "    i=i+1\n",
    "else: print('fin')"
   ]
  },
  {
   "cell_type": "code",
   "execution_count": 11,
   "id": "5b40b561-1df0-4bd4-84ff-5490828cc9ea",
   "metadata": {},
   "outputs": [
    {
     "name": "stdout",
     "output_type": "stream",
     "text": [
      "first function\n"
     ]
    },
    {
     "name": "stdin",
     "output_type": "stream",
     "text": [
      " ine\n",
      " nemer\n"
     ]
    },
    {
     "name": "stdout",
     "output_type": "stream",
     "text": [
      "Welcome ine   nemer\n",
      "Entrez un nombre\n"
     ]
    },
    {
     "name": "stdin",
     "output_type": "stream",
     "text": [
      " 5\n"
     ]
    },
    {
     "name": "stdout",
     "output_type": "stream",
     "text": [
      "n'est impair\n"
     ]
    }
   ],
   "source": [
    "#Functions\n",
    "def first_function():\n",
    "    print('first function')\n",
    "first_function()\n",
    "\n",
    "#fonction avec parametres\n",
    "nom = input()\n",
    "prenom = input()\n",
    "def afficher_nom_prenom(nom,prenom):\n",
    "    print('Welcome',nom,' ',prenom)\n",
    "\n",
    "afficher_nom_prenom(nom,prenom)\n",
    "\n",
    "#est ce que n est pair ? \n",
    "print(\"Entrez un nombre\")\n",
    "n = input()\n",
    "n = int(n)\n",
    "def pair(n):\n",
    "    if n % 2 == 0:\n",
    "       print(\"n'est pair\")\n",
    "    else: print(\"n'est impair\")\n",
    "pair(n)"
   ]
  },
  {
   "cell_type": "code",
   "execution_count": null,
   "id": "03334123-830e-45b3-9608-5c422f0346f4",
   "metadata": {},
   "outputs": [],
   "source": []
  }
 ],
 "metadata": {
  "kernelspec": {
   "display_name": "Python 3 (ipykernel)",
   "language": "python",
   "name": "python3"
  },
  "language_info": {
   "codemirror_mode": {
    "name": "ipython",
    "version": 3
   },
   "file_extension": ".py",
   "mimetype": "text/x-python",
   "name": "python",
   "nbconvert_exporter": "python",
   "pygments_lexer": "ipython3",
   "version": "3.12.0"
  }
 },
 "nbformat": 4,
 "nbformat_minor": 5
}
